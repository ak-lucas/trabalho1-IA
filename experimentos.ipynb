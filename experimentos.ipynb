{
 "cells": [
  {
   "cell_type": "markdown",
   "metadata": {},
   "source": [
    "# Trabalho 1"
   ]
  },
  {
   "cell_type": "markdown",
   "metadata": {},
   "source": [
    "## Regressão Logística"
   ]
  },
  {
   "cell_type": "markdown",
   "metadata": {},
   "source": [
    "### Ajuste da taxa de aprendizado e número de iterações\n",
    "\n",
    "A primeira etada é ajustar a taxa de aprendizado e o número de iterações. Após alterar os outros hyperparameters (fator de regularização e grau dos atributos polinimiais) será necessário realizar o ajuste fino, mas será algum valor próximo ao encontrado nesta etapa."
   ]
  },
  {
   "cell_type": "markdown",
   "metadata": {},
   "source": [
    "** imports necessários: **"
   ]
  },
  {
   "cell_type": "code",
   "execution_count": 1,
   "metadata": {},
   "outputs": [
    {
     "ename": "SyntaxError",
     "evalue": "Missing parentheses in call to 'print' (regressao_logistica_regularizado.py, line 51)",
     "output_type": "error",
     "traceback": [
      "Traceback \u001b[0;36m(most recent call last)\u001b[0m:\n",
      "  File \u001b[1;32m\"/home/kymberlim/.local/lib/python3.5/site-packages/IPython/core/interactiveshell.py\"\u001b[0m, line \u001b[1;32m2910\u001b[0m, in \u001b[1;35mrun_code\u001b[0m\n    exec(code_obj, self.user_global_ns, self.user_ns)\n",
      "\u001b[0;36m  File \u001b[0;32m\"<ipython-input-1-188d89a60ceb>\"\u001b[0;36m, line \u001b[0;32m1\u001b[0;36m, in \u001b[0;35m<module>\u001b[0;36m\u001b[0m\n\u001b[0;31m    from regressao_logistica_regularizado import RegularizedLogisticRegression\u001b[0m\n",
      "\u001b[0;36m  File \u001b[0;32m\"/home/kymberlim/Documentos/Mestrado/trabalho1-IA/regressao_logistica_regularizado.py\"\u001b[0;36m, line \u001b[0;32m51\u001b[0m\n\u001b[0;31m    print \"--epoca %s: \" % epoch\u001b[0m\n\u001b[0m                       ^\u001b[0m\n\u001b[0;31mSyntaxError\u001b[0m\u001b[0;31m:\u001b[0m Missing parentheses in call to 'print'\n"
     ]
    }
   ],
   "source": [
    "from regressao_logistica_regularizado import RegularizedLogisticRegression\n",
    "from experimentos import Dataset as DATASET\n",
    "from experimentos import ModelSelection\n",
    "from experimentos import Plot\n",
    "from dataset import Dataset\n",
    "import matplotlib.pyplot as plt\n",
    "import numpy as np\n",
    "import matplotlib.patches as mpatches"
   ]
  },
  {
   "cell_type": "markdown",
   "metadata": {},
   "source": [
    "** varia alpha e número de iterações e plota os gráficos: **"
   ]
  },
  {
   "cell_type": "code",
   "execution_count": null,
   "metadata": {},
   "outputs": [],
   "source": [
    "RLR = RegularizedLogisticRegression()\n",
    "MS = ModelSelection()\n",
    "DTS = DATASET()\n",
    "PLT = Plot()\n",
    "\n",
    "# carrega dataset\n",
    "X,Y = RLR.load_dataset('datasets/mnist.csv', header=True)\n",
    "\n",
    "# normaliza\n",
    "X_ =  DTS.dataset_scaling(X)\n",
    "alphas = [10, 15, 1]\n",
    "epochs = [1000]\n",
    "Lambda = 0\n",
    "colors = ['red', 'blue', 'black', 'purple', 'gray', 'yellow', 'green']\n",
    "fold = 1\n",
    "errors = {}\n",
    "val_errors = {}\n",
    "\n",
    "for train,val in MS.k_fold(X_, k=5, shuffle=True):\n",
    "    errors[str(fold)] = []\n",
    "    val_errors[str(fold)] = []\n",
    "    for e in epochs:\n",
    "        legends = []\n",
    "        for i,a in enumerate(alphas):\n",
    "            # ajusta o modelo\n",
    "            RLR.fit(X_[train], Y[train], X_[val], Y[val], epochs=e, learning_rate=a, Lambda=Lambda, print_results=False)\n",
    "            \n",
    "            # calcula o erro no treino\n",
    "            errors[str(fold)].append(RLR.train_error)\n",
    "            # calcula o erro no teste\n",
    "            val_errors[str(fold)].append(RLR.val_error)\n",
    "            \n",
    "            plt.plot(range(e+1), RLR.loss, color=colors[i], linewidth=1)\n",
    "            legends.append(mpatches.Patch(color=colors[i], label='alpha = ' + str(a)))\n",
    "        title = u'Curva de aprendizado com #epocas = ' + str(e) + ' e \\lambda = ' + str(Lambda) + ' (fold ' + str(fold) + ')'\n",
    "        plt.ylim([0.1, 1])\n",
    "        plt.xlabel(u'Épocas')\n",
    "        plt.ylabel(u'Custo')\n",
    "        \n",
    "        box = plt.get_position()\n",
    "        plt.set_position([box.x0, box.y0 + box.height * 0.1,\n",
    "        box.width, box.height * 0.9])\n",
    "        plt.legend(handles=legends[:], loc='upper center', bbox_to_anchor=(0.5, -0.15), fancybox=True, shadow=True, ncol=5)\n",
    "        plt.title(title)\n",
    "        plt.grid(True)\n",
    "    \n",
    "        plt.savefig('fold' + str(fold) + '.eps')\n",
    "        plt.show()\n",
    "        \n",
    "        fold += 1\n",
    "        \n",
    "error = []        \n",
    "val_error = []\n",
    "for k in ['1', '2', '3', '4','5']:\n",
    "    error.append(errors[k])\n",
    "    val_error.append(val_errors[k])"
   ]
  },
  {
   "cell_type": "code",
   "execution_count": null,
   "metadata": {},
   "outputs": [],
   "source": [
    "for i in range(len(alphas)):\n",
    "    plt.plot(range(epochs[0]+1), np.asarray(error).mean(axis=0)[i], color=colors[i], linewidth=1)\n",
    "    #legends.append(mpatches.Patch(color=colors[i], label='alpha = ' + str(a)))\n",
    "title = 'erro no treino'\n",
    "plt.ylim([0.05, 0.6])\n",
    "plt.xlabel('epocas')\n",
    "plt.ylabel('erro')\n",
    "plt.legend(handles=legends[:], loc='upper right')\n",
    "plt.title(title)\n",
    "plt.grid(True)\n",
    "\n",
    "plt.savefig('erro_treino.eps')\n",
    "plt.show()\n"
   ]
  },
  {
   "cell_type": "code",
   "execution_count": null,
   "metadata": {},
   "outputs": [],
   "source": [
    "for i in range(len(alphas)):\n",
    "    plt.plot(range(epochs[0]+1), np.asarray(val_error).mean(axis=0)[i], color=colors[i], linewidth=1)\n",
    "    #legends.append(mpatches.Patch(color=colors[i], label='alpha = ' + str(a)))\n",
    "title = 'erro na validacao'\n",
    "plt.ylim([0.05, 0.6])\n",
    "plt.xlabel('epocas')\n",
    "plt.ylabel('erro')\n",
    "plt.legend(handles=legends[:], loc='upper right')\n",
    "plt.title(title)\n",
    "plt.grid(True)\n",
    "\n",
    "plt.savefig('erro_validacao.eps')\n",
    "plt.show()"
   ]
  },
  {
   "cell_type": "code",
   "execution_count": null,
   "metadata": {},
   "outputs": [],
   "source": [
    "# cada linha é um alpha, cada coluna uma época e cada valor é um erro binário médio dos k-folds\n",
    "#print \"erro medio no treino \", np.asarray(error).mean(axis=0).shape\n",
    "#print \"desvio padrao no treino \", np.asarray(error).std(axis=0)\n",
    "#print \"erro medio na validacao \", np.asarray(val_error).mean(axis=0).shape\n",
    "#print \"desvio padrao na validacao \", np.asarray(val_error).std(axis=0)\n",
    "\n",
    "for i,a in enumerate(alphas):\n",
    "    print \"alpha = \", a\n",
    "    print \"erro medio final no treino \", np.asarray(error).mean(axis=0)[i][-1]\n",
    "    print \"desvio padrao final no treino \", np.asarray(error).std(axis=0)[i][-1]\n",
    "    print \"erro medio final na validacao \", np.asarray(val_error).mean(axis=0)[i][-1]\n",
    "    print \"desvio padrao final na validacao \", np.asarray(val_error).std(axis=0)[i][-1]\n",
    "    print \"\\n\""
   ]
  },
  {
   "cell_type": "code",
   "execution_count": null,
   "metadata": {},
   "outputs": [],
   "source": []
  }
 ],
 "metadata": {
  "kernelspec": {
   "display_name": "Python 2",
   "language": "python",
   "name": "python2"
  },
  "language_info": {
   "codemirror_mode": {
    "name": "ipython",
    "version": 3
   },
   "file_extension": ".py",
   "mimetype": "text/x-python",
   "name": "python",
   "nbconvert_exporter": "python",
   "pygments_lexer": "ipython3",
   "version": "3.5.2"
  }
 },
 "nbformat": 4,
 "nbformat_minor": 2
}
