{
 "cells": [
  {
   "cell_type": "markdown",
   "metadata": {},
   "source": [
    "# Trabalho 1"
   ]
  },
  {
   "cell_type": "markdown",
   "metadata": {},
   "source": [
    "## Regressão Logística"
   ]
  },
  {
   "cell_type": "markdown",
   "metadata": {},
   "source": [
    "### Ajuste da taxa de aprendizado e número de iterações\n",
    "\n",
    "Primeiro ajusta da taxa de aprendizado e número de iterações. Após alterar os outros hyperparameters (fator de regularização e grau dos atributos polinimiais) será necessário realizar o ajuste fino, mas será algum valor próximo ao encontrado nesta etapa."
   ]
  },
  {
   "cell_type": "markdown",
   "metadata": {},
   "source": [
    "** imports necessários: **"
   ]
  },
  {
   "cell_type": "code",
   "execution_count": 1,
   "metadata": {},
   "outputs": [],
   "source": [
    "from regressao_logistica_regularizado import RegularizedLogisticRegression\n",
    "from experimentos import Dataset as DATASET\n",
    "from experimentos import ModelSelection\n",
    "from experimentos import Plot\n",
    "from dataset import Dataset\n",
    "import matplotlib.pyplot as plt"
   ]
  },
  {
   "cell_type": "markdown",
   "metadata": {},
   "source": [
    "** varia alpha e número de iterações e plota os gráficos: **"
   ]
  },
  {
   "cell_type": "code",
   "execution_count": null,
   "metadata": {},
   "outputs": [],
   "source": [
    "RLR = RegularizedLogisticRegression()\n",
    "MS = ModelSelection()\n",
    "DTS = DATASET()\n",
    "PLT = Plot()\n",
    "\n",
    "# carrega dataset\n",
    "X,Y = RLR.load_dataset('datasets/mnist.csv', header=True)\n",
    "\n",
    "# normaliza\n",
    "X_ =  DTS.dataset_scaling(X)\n",
    "\n",
    "alphas = [0.1, 0.05]\n",
    "epochs = [10, 50, 100, 150, 500, 1000]\n",
    "Lambda = 0\n",
    "\n",
    "for train,test in MS.k_fold(X_, k=5, shuffle=True):\n",
    "    #print train, \"\\n\\n\", test, \"\\n\"\n",
    "    #print \"train: \", X[train].shape, Y[train].shape\n",
    "    #print \"test: \",X[test].shape, Y[test].shape, \"\\n\\n\\n\"\n",
    "    for a in alphas:\n",
    "        for e in epochs:\n",
    "            RLR.fit(X_[train], Y[train], epochs=e, learning_rate=a, Lambda=Lambda, print_results=False)\n",
    "            title = 'Curva de aprendizado com alpha = ' + str(a) + ', #epocas = ' + str(e) + ' e lambda = ' + str(Lambda)\n",
    "            PLT.plot_graphic(range(e+1) , RLR.loss, xlabel='epocas', ylabel='loss', color='blue', linewidth=2, title=title, grid=True)\n",
    "            \n",
    "    \n",
    "    "
   ]
  },
  {
   "cell_type": "code",
   "execution_count": null,
   "metadata": {
    "collapsed": true
   },
   "outputs": [],
   "source": []
  }
 ],
 "metadata": {
  "kernelspec": {
   "display_name": "Python 2",
   "language": "python",
   "name": "python2"
  },
  "language_info": {
   "codemirror_mode": {
    "name": "ipython",
    "version": 2
   },
   "file_extension": ".py",
   "mimetype": "text/x-python",
   "name": "python",
   "nbconvert_exporter": "python",
   "pygments_lexer": "ipython2",
   "version": "2.7.12"
  }
 },
 "nbformat": 4,
 "nbformat_minor": 2
}
