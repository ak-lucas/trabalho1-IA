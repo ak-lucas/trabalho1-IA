{
 "cells": [
  {
   "cell_type": "markdown",
   "metadata": {},
   "source": [
    "# Trabalho 1"
   ]
  },
  {
   "cell_type": "markdown",
   "metadata": {},
   "source": [
    "## Regressão Logística"
   ]
  },
  {
   "cell_type": "markdown",
   "metadata": {},
   "source": [
    "### Ajuste da taxa de aprendizado e número de iterações\n",
    "\n",
    "A primeira etada é ajustar a taxa de aprendizado e o número de iterações. Após alterar os outros hyperparameters (fator de regularização e grau dos atributos polinimiais) será necessário realizar o ajuste fino, mas será algum valor próximo ao encontrado nesta etapa."
   ]
  },
  {
   "cell_type": "markdown",
   "metadata": {},
   "source": [
    "** imports necessários: **"
   ]
  },
  {
   "cell_type": "code",
   "execution_count": 17,
   "metadata": {
    "collapsed": true
   },
   "outputs": [],
   "source": [
    "from regressao_logistica_regularizado import RegularizedLogisticRegression\n",
    "from experimentos import Dataset as DATASET\n",
    "from experimentos import ModelSelection\n",
    "from experimentos import Plot\n",
    "from dataset import Dataset\n",
    "import matplotlib.pyplot as plt\n",
    "import numpy as np\n",
    "import matplotlib.patches as mpatches\n",
    "from matplotlib.ticker import MaxNLocator"
   ]
  },
  {
   "cell_type": "markdown",
   "metadata": {},
   "source": [
    "** varia alpha e número de iterações e plota os gráficos: **"
   ]
  },
  {
   "cell_type": "code",
   "execution_count": 24,
   "metadata": {},
   "outputs": [
    {
     "name": "stdout",
     "output_type": "stream",
     "text": [
      "14 0.217154269411 0.034226939072\n",
      "10 0.220049263099 0.0328356078293\n",
      "6 0.227962639992 0.0304832245201\n"
     ]
    },
    {
     "data": {
      "image/png": "[encoded data removed]",
      "text/plain": [
       "<matplotlib.figure.Figure at 0x7f5d15fd9b50>"
      ]
     },
     "metadata": {},
     "output_type": "display_data"
    }
   ],
   "source": [
    "RLR = RegularizedLogisticRegression()\n",
    "MS = ModelSelection()\n",
    "DTS = DATASET()\n",
    "PLT = Plot()\n",
    "\n",
    "# carrega dataset\n",
    "X,Y = RLR.load_dataset('datasets/mnist.csv', header=True)\n",
    "\n",
    "# normaliza\n",
    "X_ =  DTS.dataset_scaling(X)\n",
    "\n",
    "alphas = [14, 10, 6]\n",
    "epochs = [1000]\n",
    "Lambda = 0\n",
    "colors = ['red', 'cyan', 'black', 'yellow', 'green', 'gray', 'darkblue']\n",
    "fold = 1\n",
    "errors = {}\n",
    "val_errors = {}\n",
    "loss = {}\n",
    "for train,val in MS.k_fold(X_, k=5, shuffle=True):\n",
    "    fig, ax = plt.subplots()\n",
    "    errors[str(fold)] = []\n",
    "    val_errors[str(fold)] = []\n",
    "    loss[str(fold)] = []\n",
    "    for e in epochs:\n",
    "        legends = []\n",
    "        for i,a in enumerate(alphas):\n",
    "            # ajusta o modelo\n",
    "            RLR.fit(X_[train], Y[train], X_[val], Y[val], epochs=e, learning_rate=a, Lambda=Lambda, print_results=False)\n",
    "            \n",
    "            # calcula o erro no treino\n",
    "            errors[str(fold)].append(RLR.train_error)\n",
    "            # calcula o erro no teste\n",
    "            val_errors[str(fold)].append(RLR.val_error)\n",
    "            # salva loss\n",
    "            loss[str(fold)].append(RLR.loss)\n",
    "            \n",
    "            ax.plot(range(e+1), RLR.loss, color=colors[i], linewidth=1)\n",
    "            legends.append(mpatches.Patch(color=colors[i], label='alpha = ' + str(a)))\n",
    "        #title = u'Ajuste da taxa com #epocas = ' + str(e) + ' e $\\lambda$ = ' + str(Lambda) + ' (fold ' + str(fold) + ')'\n",
    "        plt.ylim([0.1, 1])\n",
    "        plt.xlabel(u'Épocas')\n",
    "        plt.ylabel(u'Custo')\n",
    "        \n",
    "        box = ax.get_position()\n",
    "        ax.set_position([box.x0, box.y0 + box.height * 0.1,\n",
    "        box.width, box.height * 0.9])\n",
    "        ax.legend(handles=legends[:], loc='upper center', bbox_to_anchor=(0.5, -0.15), fancybox=True, shadow=True, ncol=5)\n",
    "        #plt.title(title)\n",
    "        plt.grid(True)\n",
    "    \n",
    "        fig.savefig('fold' + str(fold) + '.eps')\n",
    "        #plt.show()\n",
    "        plt.close(fig)\n",
    "        \n",
    "        fold += 1\n",
    "        \n",
    "error = []        \n",
    "val_error = []\n",
    "loss_ = []\n",
    "for k in ['1', '2', '3', '4','5']:\n",
    "    error.append(errors[k])\n",
    "    val_error.append(val_errors[k])\n",
    "    loss_.append(loss[k])\n",
    "\n",
    "fig, ax = plt.subplots()\n",
    "for i,a in enumerate(alphas):\n",
    "    mean = np.asarray(loss_).mean(axis=0)[i]\n",
    "    stdeviation = np.asarray(loss_).std(axis=0)[i]\n",
    "    print a, mean[-1], stdeviation[-1]\n",
    "    \n",
    "    ax.plot(range(epochs[0]+1), mean, color=colors[i], linewidth=1)\n",
    "    ax.fill_between(range(epochs[0]+1), mean-stdeviation, mean+stdeviation , color=colors[i], linewidth=1, alpha=0.2)\n",
    "    \n",
    "title = u'Curva de aprendizado média com #epocas = ' + str(e) + ' e $\\lambda$ = ' + str(Lambda)\n",
    "plt.ylim([0.1, 1.])\n",
    "plt.xlabel(u'Épocas')\n",
    "plt.ylabel(u'Custo')\n",
    "\n",
    "box = ax.get_position()\n",
    "ax.set_position([box.x0, box.y0 + box.height * 0.1,\n",
    "box.width, box.height * 0.9])\n",
    "lgd = ax.legend(handles=legends[:], loc='upper center', bbox_to_anchor=(0.5, -0.15), fancybox=True, shadow=True, ncol=5)\n",
    "#plt.title(title)\n",
    "plt.grid(True)\n",
    "\n",
    "fig.savefig('media_std_fino.png', bbox_extra_artists=(lgd,), bbox_inches='tight')\n",
    "plt.show()\n",
    "plt.close(fig)"
   ]
  },
  {
   "cell_type": "markdown",
   "metadata": {},
   "source": [
    "** erro por época ** (pode ignorar)"
   ]
  },
  {
   "cell_type": "code",
   "execution_count": null,
   "metadata": {
    "collapsed": true
   },
   "outputs": [],
   "source": [
    "for i in range(len(alphas)):\n",
    "    plt.plot(range(epochs[0]+1), np.asarray(error).mean(axis=0)[i], color=colors[i], linewidth=1)\n",
    "    #legends.append(mpatches.Patch(color=colors[i], label='alpha = ' + str(a)))\n",
    "title = 'erro no treino'\n",
    "plt.ylim([0.05, 0.6])\n",
    "plt.xlabel('epocas')\n",
    "plt.ylabel('erro')\n",
    "plt.legend(handles=legends[:], loc='upper right')\n",
    "plt.title(title)\n",
    "plt.grid(True)\n",
    "\n",
    "plt.savefig('erro_treino.eps')\n",
    "plt.show()\n"
   ]
  },
  {
   "cell_type": "code",
   "execution_count": null,
   "metadata": {
    "collapsed": true
   },
   "outputs": [],
   "source": [
    "for i in range(len(alphas)):\n",
    "    plt.plot(range(epochs[0]+1), np.asarray(val_error).mean(axis=0)[i], color=colors[i], linewidth=1)\n",
    "    #legends.append(mpatches.Patch(color=colors[i], label='alpha = ' + str(a)))\n",
    "title = 'erro na validacao'\n",
    "plt.ylim([0.05, 0.6])\n",
    "plt.xlabel('epocas')\n",
    "plt.ylabel('erro')\n",
    "plt.legend(handles=legends[:], loc='upper right')\n",
    "plt.title(title)\n",
    "plt.grid(True)\n",
    "\n",
    "plt.savefig('erro_validacao.eps')\n",
    "plt.show()"
   ]
  },
  {
   "cell_type": "code",
   "execution_count": null,
   "metadata": {
    "collapsed": true
   },
   "outputs": [],
   "source": [
    "# cada linha é um alpha, cada coluna uma época e cada valor é um erro binário médio dos k-folds\n",
    "#print \"erro medio no treino \", np.asarray(error).mean(axis=0).shape\n",
    "#print \"desvio padrao no treino \", np.asarray(error).std(axis=0)\n",
    "#print \"erro medio na validacao \", np.asarray(val_error).mean(axis=0).shape\n",
    "#print \"desvio padrao na validacao \", np.asarray(val_error).std(axis=0)\n",
    "\n",
    "for i,a in enumerate(alphas):\n",
    "    print \"alpha = \", a\n",
    "    print \"erro medio final no treino \", np.asarray(error).mean(axis=0)[i][-1]\n",
    "    print \"desvio padrao final no treino \", np.asarray(error).std(axis=0)[i][-1]\n",
    "    print \"erro medio final na validacao \", np.asarray(val_error).mean(axis=0)[i][-1]\n",
    "    print \"desvio padrao final na validacao \", np.asarray(val_error).std(axis=0)[i][-1]\n",
    "    print \"\\n\""
   ]
  },
  {
   "cell_type": "markdown",
   "metadata": {},
   "source": [
    "### Curva de validação: atributos polinomiais\n",
    "\n",
    "O objetivo deste experimento é analisar se a geração de atributos polinomiais trazem melhoria de\n",
    "desempenho e, mais especificamente, qual o grau de polinômio mais adequado para a tarefa. Portanto,\n",
    "deve-se variar o grau dos atributos polinomiais a partir de 1 (sem atributos polinomiais) até um valor que\n",
    "a curva de validação indique claramente que há overfitting. Neste experimento, não utilize\n",
    "regularização."
   ]
  },
  {
   "cell_type": "code",
   "execution_count": 25,
   "metadata": {},
   "outputs": [
    {
     "name": "stdout",
     "output_type": "stream",
     "text": [
      "(200, 4)\n",
      "(200, 14)\n",
      "(200, 34)\n",
      "(200, 69)\n",
      "(200, 125)\n",
      "(200, 209)\n",
      "(200, 329)\n",
      "(200, 494)\n",
      "(200, 714)\n",
      "(200, 1000)\n",
      "(200, 1364)\n",
      "(200, 1819)\n",
      "(200, 2379)\n",
      "(200, 3059)\n",
      "(200, 3875)\n",
      "(200, 4844)\n",
      "(200, 5984)\n",
      "(200, 7314)\n",
      "(200, 8854)\n",
      "(200, 10625)\n",
      "(200, 12649)\n",
      "(200, 14949)\n",
      "(200, 17549)\n",
      "(200, 20474)\n",
      "(200, 23750)\n",
      "(200, 27404)\n",
      "(200, 31464)\n",
      "(200, 35959)\n",
      "(200, 40919)\n",
      "(200, 46375)\n"
     ]
    },
    {
     "data": {
      "image/png": "[encoded data removed]",
      "text/plain": [
       "<matplotlib.figure.Figure at 0x7f5d15d00c50>"
      ]
     },
     "metadata": {},
     "output_type": "display_data"
    },
    {
     "name": "stdout",
     "output_type": "stream",
     "text": [
      "erro medio no treino:  [0.08249999999999999, 0.087500000000000022, 0.085000000000000006, 0.082500000000000018, 0.086249999999999979, 0.081250000000000003, 0.078749999999999987, 0.076249999999999971, 0.078750000000000014, 0.072499999999999981, 0.071250000000000008, 0.073749999999999982, 0.077499999999999986, 0.067499999999999977, 0.077500000000000013, 0.07375000000000001, 0.07375000000000001, 0.074999999999999997, 0.07375000000000001, 0.07375000000000001, 0.071250000000000008, 0.072500000000000009, 0.071249999999999994, 0.073749999999999982, 0.071249999999999994, 0.071250000000000008, 0.072499999999999981, 0.075000000000000025, 0.072500000000000009, 0.072499999999999981]\n",
      "\n",
      "desvio padrao no treino:  [0.007288689868556646, 0.0055901699437494543, 0.012869537676233745, 0.016488632447841135, 0.012119199643540832, 0.011180339887498959, 0.010897247358851692, 0.012747548783981958, 0.011592023119369639, 0.0093541434669348559, 0.011592023119369639, 0.010752906583803288, 0.01286953767623375, 0.020310096011589895, 0.0084779124789066008, 0.0072886898685566451, 0.012119199643540829, 0.0088388347648318596, 0.013919410907075049, 0.0091855865354369213, 0.011592023119369639, 0.010155048005794965, 0.0075000000000000032, 0.018285923547909755, 0.0063737743919909931, 0.011592023119369627, 0.012247448713915874, 0.01045825033167596, 0.013462912017836261, 0.0084779124789065765]\n",
      "\n",
      "erro medio na validacao:  [0.090000000000000011, 0.095000000000000001, 0.10500000000000001, 0.099999999999999978, 0.10500000000000002, 0.099999999999999978, 0.10499999999999995, 0.10000000000000001, 0.095000000000000001, 0.099999999999999978, 0.10500000000000001, 0.10999999999999999, 0.10000000000000001, 0.095000000000000015, 0.085000000000000006, 0.12, 0.099999999999999978, 0.085000000000000006, 0.10499999999999998, 0.10999999999999996, 0.11499999999999999, 0.10499999999999998, 0.099999999999999978, 0.10000000000000001, 0.095000000000000015, 0.089999999999999997, 0.080000000000000029, 0.10499999999999998, 0.099999999999999978, 0.099999999999999978]\n",
      "\n",
      "desvio padrao:  [0.037416573867739396, 0.024494897427831761, 0.033166247903553991, 0.027386127875258331, 0.05099019513592784, 0.01581138830084191, 0.048476798574163288, 0.038729833462074155, 0.039999999999999994, 0.068920243760451097, 0.040000000000000001, 0.037416573867739444, 0.035355339059327376, 0.064031242374328501, 0.046368092477478522, 0.029154759474226528, 0.059160797830996148, 0.033911649915626327, 0.029154759474226528, 0.048989794855663564, 0.068190908484929272, 0.050990195135927827, 0.027386127875258331, 0.075828754440515511, 0.03999999999999998, 0.033911649915626348, 0.060000000000000005, 0.055677643628300195, 0.022360679774997918, 0.052440442408507558]\n"
     ]
    }
   ],
   "source": [
    "RLR = RegularizedLogisticRegression()\n",
    "MS = ModelSelection()\n",
    "DTS = DATASET()\n",
    "PLT = Plot()\n",
    "\n",
    "# carrega dataset\n",
    "X,Y = RLR.load_dataset('datasets/mnist.csv', header=True)\n",
    "\n",
    "degrees = range(1,31)\n",
    "e = 1000\n",
    "Lambda = 0\n",
    "lr = 10\n",
    "train_mean = []\n",
    "train_std = []\n",
    "val_mean = []\n",
    "val_std = []\n",
    "\n",
    "for d in degrees:\n",
    "    X_pol = DTS.generate_polynomial_attributes(X, d)\n",
    "    # normaliza\n",
    "    X_pol =  DTS.dataset_scaling(X_pol)\n",
    "    print X_pol.shape\n",
    "    fold = 1\n",
    "    errors = {}\n",
    "    val_errors = {}\n",
    "    loss = {}\n",
    "    for train,val in MS.k_fold(X_pol, k=5, shuffle=True):\n",
    "        errors[str(fold)] = []\n",
    "        val_errors[str(fold)] = []\n",
    "        loss[str(fold)] = []\n",
    "        legends = []\n",
    "        \n",
    "        # ajusta o modelo\n",
    "        RLR.fit(X_pol[train], Y[train], X_pol[val], Y[val], epochs=e, learning_rate=lr, Lambda=Lambda, print_results=False)\n",
    "\n",
    "        # calcula o erro no treino\n",
    "        errors[str(fold)].append(RLR.train_error[-1])\n",
    "        # calcula o erro no teste\n",
    "        val_errors[str(fold)].append(RLR.val_error[-1])\n",
    "        # salva loss\n",
    "        loss[str(fold)].append(RLR.loss)\n",
    "        #print \"erro no treino\", RLR.train_error[-1]\n",
    "        #print \"erro na validacao\", RLR.val_error[-1]\n",
    "        fold += 1\n",
    "        \n",
    "    train_error = []        \n",
    "    val_error = []\n",
    "    loss_ = []\n",
    "    for k in ['1', '2', '3', '4','5']:\n",
    "        train_error.append(errors[k])\n",
    "        val_error.append(val_errors[k])\n",
    "        loss_.append(loss[k])\n",
    "\n",
    "    #print \"grau dos atributos polinomiais: \", d\n",
    "    #print \"erro médio no treino: \", np.asarray(train_error).mean()\n",
    "    #print \"erro médio na validação: \", np.asarray(val_error).mean()\n",
    "    #print \"\\n\"\n",
    "    \n",
    "    train_error = np.array(train_error)\n",
    "    val_error = np.array(val_error)\n",
    "    \n",
    "    train_mean.append(train_error.mean())\n",
    "    train_std.append(train_error.std())\n",
    "    val_mean.append(val_error.mean())\n",
    "    val_std.append(val_error.std())\n",
    "    \n",
    "fig, ax = plt.subplots()\n",
    "ax.plot(range(1,len(degrees)+1), train_mean, color='red', linewidth=1)\n",
    "ax.fill_between(range(1,len(degrees)+1), np.asarray(train_mean)-np.asarray(train_std), np.asarray(train_mean)+np.asarray(train_std) , color='red', linewidth=1, alpha=0.2)\n",
    "\n",
    "ax.plot(range(1,len(degrees)+1), val_mean, color='blue', linewidth=1)\n",
    "ax.fill_between(range(1,len(degrees)+1), np.asarray(val_mean)-np.asarray(val_std), np.asarray(val_mean)+np.asarray(val_std) , color='blue', linewidth=1, alpha=0.2)\n",
    "ax.xaxis.set_major_locator(MaxNLocator(integer=True))\n",
    "legends = [mpatches.Patch(color='red', label='treino'), mpatches.Patch(color='blue', label=u'validação')]\n",
    "\n",
    "title = u'Curva de aprendizado média com #epocas = ' + str(e) + ', $\\lambda$ = ' + str(Lambda) + ' e $\\alpha$ = ' + str(lr)\n",
    "#plt.ylim([0.1, 1.])\n",
    "plt.xlabel('$\\eta$')\n",
    "plt.ylabel(u'Erro Binário Médio')\n",
    "\n",
    "box = ax.get_position()\n",
    "ax.set_position([box.x0, box.y0 + box.height * 0.1,\n",
    "box.width, box.height * 0.9])\n",
    "lgd = ax.legend(handles=legends[:], loc='upper center', bbox_to_anchor=(0.5, -0.15), fancybox=True, shadow=True, ncol=5)\n",
    "#plt.title(title)\n",
    "plt.grid(True)\n",
    "\n",
    "fig.savefig('curva_ap_eta.png', bbox_extra_artists=(lgd,), bbox_inches='tight')\n",
    "plt.show()\n",
    "plt.close(fig)\n",
    "\n",
    "print \"erro medio no treino: \", train_mean\n",
    "print\n",
    "print \"desvio padrao no treino: \", train_std\n",
    "print\n",
    "print \"erro medio na validacao: \", val_mean\n",
    "print\n",
    "print \"desvio padrao: \", val_std"
   ]
  },
  {
   "cell_type": "code",
   "execution_count": null,
   "metadata": {
    "collapsed": true
   },
   "outputs": [],
   "source": []
  }
 ],
 "metadata": {
  "kernelspec": {
   "display_name": "Python 2",
   "language": "python",
   "name": "python2"
  },
  "language_info": {
   "codemirror_mode": {
    "name": "ipython",
    "version": 2
   },
   "file_extension": ".py",
   "mimetype": "text/x-python",
   "name": "python",
   "nbconvert_exporter": "python",
   "pygments_lexer": "ipython2",
   "version": "2.7.12"
  }
 },
 "nbformat": 4,
 "nbformat_minor": 2
}
