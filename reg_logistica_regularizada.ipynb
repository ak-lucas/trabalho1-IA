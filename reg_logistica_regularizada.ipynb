{
 "cells": [
  {
   "cell_type": "markdown",
   "metadata": {},
   "source": [
    "# Regressão Logística com Descida de Gradiente Regularizada\n",
    "\n",
    "Este notebook foi criado para facilitar a realização dos experimentos do trabalho. Caso funcione bem, podemos adotar esta ferramenta também em trabalhos futuros.\n",
    "\n",
    "**Conteúdo do notebook: **\n",
    "\n",
    "- classe com a implementação da regressão logística com descida de gradiente regularizada;\n",
    "- main com exemplo de utilização da classe;\n",
    "- código para gerar os resultados e realizar os experimentos;\n",
    "- avaliação dos resultados;\n",
    "\n",
    "**Requisitos para executar este notebook: **\n",
    "- ter os arquivos do repositório deste notebook na mesma pasta;\n",
    "- ter numpy instalado (recomendável instalar toda pilha scipy);\n",
    "- ter sklearn instalado caso queira comparar os resultados;"
   ]
  },
  {
   "cell_type": "markdown",
   "metadata": {},
   "source": [
    "**Classe da regressão logística com descida de gradiente regularizada:**\n",
    "\n",
    "A classe está implementada no arquivo regressao_logistica_regularizado.py que deve ser mantido no mesmo diretório deste notebook."
   ]
  },
  {
   "cell_type": "markdown",
   "metadata": {},
   "source": [
    "**exemplo de uso**\n",
    "\n",
    "Neste exemplo é utilizada uma versão modificada do dataset iris do repositório UCI. Neste dataset uma classe foi excluída para que o dataset fosse transformado para ser utlizado em um problema de classificação binária."
   ]
  },
  {
   "cell_type": "code",
   "execution_count": 12,
   "metadata": {},
   "outputs": [
    {
     "name": "stdout",
     "output_type": "stream",
     "text": [
      "train accuracy: 100.0%\n",
      "train binary error: 0.0%\n",
      "\n",
      "test accuracy: 100.0%\n",
      "test binary error: 0.0%\n",
      "\n",
      "final loss: 0.134115529214\n"
     ]
    }
   ],
   "source": [
    "from regressao_logistica_regularizado import RegularizedLogisticRegression\n",
    "import csv\n",
    "import numpy as np\n",
    "\n",
    "#PREPARAÇÃO DO DATASET\n",
    "X = []\n",
    "Y = []\n",
    "with open('iris_mod.csv', 'r') as f:\n",
    "    reader = csv.reader(f)\n",
    "    for r in reader:\n",
    "        x = r[:-1]\n",
    "        X.append([float(a) for a in x])\n",
    "        Y.append(int(r[-1]))\n",
    "\n",
    "X = np.array(X)\n",
    "Y = np.array(Y)\n",
    "\n",
    "indices = np.arange(X.shape[0])\n",
    "\n",
    "np.random.shuffle(indices)\n",
    "\n",
    "X = X[indices]\n",
    "Y = Y[indices]\n",
    "\n",
    "TRAIN_SIZE = int(.8 * X.shape[0])\n",
    "\n",
    "X_train = X[:TRAIN_SIZE]\n",
    "Y_train = Y[:TRAIN_SIZE]\n",
    "\n",
    "X_test = X[TRAIN_SIZE:]\n",
    "Y_test = Y[TRAIN_SIZE:]\n",
    "\n",
    "#REGRESSÃO LOGÍSTICA\n",
    "LR = RegularizedLogisticRegression()\n",
    "\n",
    "epochs = 30\n",
    "\n",
    "LR.fit(X_train,Y_train, epochs=epochs, learning_rate=0.08, Lambda=0.1, print_results=False)\n",
    "print(\"train accuracy: \" + str(LR.accuracy_score(X_train,Y_train)*100.0) + \"%\")\n",
    "print(\"train binary error: \" + str(LR.binary_error(X_train,Y_train)*100.0) + \"%\\n\")\n",
    "\n",
    "Y_predict = LR.predict(X_test)\n",
    "\n",
    "print('test accuracy: ' + str(LR.accuracy_score(X_test,Y_test)*100.0) + \"%\")\n",
    "print('test binary error: ' + str(LR.binary_error(X_test,Y_test)*100.0) + \"%\\n\")\n",
    "#print accuracy_score(Y_test,Y_predict)\t#sklearn accuracy\n",
    "\n",
    "print('final loss: ' + str(LR.loss[-1]))\n"
   ]
  },
  {
   "cell_type": "markdown",
   "metadata": {},
   "source": [
    "**Classe para plotar gráficos**\n",
    "\n",
    "Abaixo está definida a classe utilizada para plotar gŕaficos.\n",
    "\n",
    "Parâmetros do método plot_curve:\n",
    "- X -> lista com os pontos do eixo x\n",
    "- Y -> lista com os pontos do eixo y"
   ]
  },
  {
   "cell_type": "code",
   "execution_count": 6,
   "metadata": {
    "collapsed": true
   },
   "outputs": [],
   "source": [
    "import matplotlib.pyplot as plt\n",
    "\n",
    "class Plot:\n",
    "    def __init__(self):\n",
    "        pass\n",
    "    \n",
    "    def plot_curve(self, X, Y, xlabel='', ylabel='', color='blue', linewidth=2, title='', grid=False):\n",
    "        plt.plot(X, Y, color=color, linewidth=linewidth)\n",
    "        plt.xlabel(xlabel)\n",
    "        plt.ylabel(ylabel)\n",
    "        plt.title(title)\n",
    "        plt.grid(grid)\n",
    "\n",
    "        plt.show()"
   ]
  },
  {
   "cell_type": "markdown",
   "metadata": {},
   "source": [
    "**exemplo de execução: Loss x Iteração**\n",
    "\n",
    "Abaixo está o código para plotar o gráfico da função de custo ao longo de cada iteração."
   ]
  },
  {
   "cell_type": "code",
   "execution_count": 13,
   "metadata": {},
   "outputs": [
    {
     "data": {
      "image/png": "[encoded data removed]",
      "text/plain": [
       "<matplotlib.figure.Figure at 0x7f36077a9310>"
      ]
     },
     "metadata": {},
     "output_type": "display_data"
    }
   ],
   "source": [
    "axis_x = range(epochs+1)\n",
    "\n",
    "axis_y = LR.loss\n",
    "\n",
    "plot = Plot()\n",
    "plot.plot_curve(axis_x, axis_y, xlabel='iteracao', ylabel='loss', title='Regressao Logistica', grid=True)"
   ]
  },
  {
   "cell_type": "markdown",
   "metadata": {
    "collapsed": true
   },
   "source": [
    "## Experimentos utilizando o dataset mnist\n",
    "\n",
    "Doravante assume-se que está claro como utilizar as classes que foram implementadas. Para gerar os resultados será utilizado o dataset mnist, disponibilizado para o trabalho 1."
   ]
  },
  {
   "cell_type": "markdown",
   "metadata": {},
   "source": [
    "### Estatísticas básicas do dataset\n",
    "Aqui são apresentadas as estatísticas básicas do dataset como: valor mínimo, valor máximo, média e desvio padrão de cada atributo."
   ]
  },
  {
   "cell_type": "code",
   "execution_count": 25,
   "metadata": {},
   "outputs": [
    {
     "name": "stdout",
     "output_type": "stream",
     "text": [
      "valor máximo de cada atributo:  [ 23774.  19333.  17349.  25758.]\n",
      "valor mínimo de cada atributo:  [ 2967.  3171.   926.  3957.]\n",
      "valor médio de cada atributo:  [  9570.935   8830.575   7521.04   10880.47 ]\n",
      "desvio padrão de cada atributo:  [ 3856.74613771  2549.94064527  3203.34809354  3437.92108826]\n"
     ]
    }
   ],
   "source": [
    "# carrega dataset\n",
    "X = []\n",
    "Y = []\n",
    "with open('mnist.csv', 'r') as f:\n",
    "    reader = csv.reader(f)\n",
    "    c = 0\n",
    "    for r in reader:\n",
    "        if c == 1:\n",
    "            x = r[:-1]\n",
    "            X.append([float(a) for a in x])\n",
    "            Y.append(int(r[-1]))\n",
    "        c = 1\n",
    "\n",
    "X = np.array(X)\n",
    "Y = np.array(Y)\n",
    "\n",
    "#print X.shape, Y.shape\n",
    "\n",
    "Max = X.max(axis=0)\n",
    "Min = X.min(axis=0)\n",
    "Mean = X.mean(axis=0)\n",
    "Std = X.std(axis=0)\n",
    "\n",
    "# axis=0 coluna / axis=1 linha\n",
    "print \"valor máximo de cada atributo: \", Max\n",
    "print \"valor mínimo de cada atributo: \", Min\n",
    "print \"valor médio de cada atributo: \", Mean\n",
    "print \"desvio padrão de cada atributo: \", Std\n"
   ]
  },
  {
   "cell_type": "markdown",
   "metadata": {},
   "source": [
    "### Normalização dos atributos\n",
    "\n",
    "Será utilizada a normalização min-max, que é definida como:\n",
    "\n",
    "$$ \\bar{x}_j = \\frac{x_j - x^{min}_j}{x^{max}_j - x^{min}_j},$$\n",
    "\n",
    "$$ 0 \\le \\bar{x}_j \\le 1$$"
   ]
  },
  {
   "cell_type": "markdown",
   "metadata": {},
   "source": [
    "**Classe para normalizar dataset:**\n",
    "\n",
    "Esta classe possui um método chamado min_max que recebe um dataset e retorna um dataset com os atributos normalizados utilizando a normalização min-max. Futuramente pode-se implementar outras normalizações, como a Z-score."
   ]
  },
  {
   "cell_type": "code",
   "execution_count": 31,
   "metadata": {},
   "outputs": [],
   "source": [
    "class DatasetScaling:\n",
    "    def __init__(self):\n",
    "        pass\n",
    "    \n",
    "    def min_max(self, X):\n",
    "        #print Max.shape, X.shape\n",
    "        numerator = np.subtract(X, Min)\n",
    "        denominator = np.subtract(Max, Min)\n",
    "\n",
    "        #print numerator.shape\n",
    "        #print denominator.shape\n",
    "\n",
    "        return np.divide(numerator,denominator)"
   ]
  },
  {
   "cell_type": "markdown",
   "metadata": {},
   "source": [
    "Testando o método min_max da classe DatasetScaling:"
   ]
  },
  {
   "cell_type": "code",
   "execution_count": 37,
   "metadata": {},
   "outputs": [],
   "source": [
    "ds = DatasetScaling()\n",
    "\n",
    "X_scaled = ds.min_max(X)\n",
    "#print X_scaled.shape\n",
    "#print X_scaled"
   ]
  },
  {
   "cell_type": "code",
   "execution_count": null,
   "metadata": {
    "collapsed": true
   },
   "outputs": [],
   "source": []
  }
 ],
 "metadata": {
  "kernelspec": {
   "display_name": "Python 2",
   "language": "python",
   "name": "python2"
  },
  "language_info": {
   "codemirror_mode": {
    "name": "ipython",
    "version": 2
   },
   "file_extension": ".py",
   "mimetype": "text/x-python",
   "name": "python",
   "nbconvert_exporter": "python",
   "pygments_lexer": "ipython2",
   "version": "2.7.12"
  }
 },
 "nbformat": 4,
 "nbformat_minor": 2
}
